{
  "cells": [
    {
      "cell_type": "raw",
      "metadata": {},
      "source": [
        "---\n",
        "title: \"Annual Progress Review\"\n",
        "author: \"Thomas Boughen\"\n",
        "format: \n",
        "  revealjs:\n",
        "    logo: imgs/University_of_Newcastle_Coat_of_Arms.png\n",
        "    theme: serif\n",
        "editor: visual\n",
        "---"
      ],
      "id": "63642dae"
    },
    {
      "cell_type": "markdown",
      "metadata": {},
      "source": [
        "```{css}\n",
        ".center h2 {\n",
        "  text-align: center;\n",
        "}\n",
        "```\n",
        "\n",
        "\n",
        "\n",
        "# Extreme Value Theory\n",
        "\n",
        "## Continuous Extremes\n",
        "\n",
        "## Discrete Extremes\n",
        "\n",
        "## Integral Generalised Pareto Distribution\n",
        "\n",
        "## Spliced Mixture\n",
        "\n",
        "# Network Generative Models\n",
        "\n",
        "## General Preferential Attachment\n",
        "\n",
        "## Special Cases {.center}\n",
        ":::: {.columns}\n",
        "\n",
        "::: {.column width=\"50%\"}\n",
        "### Barabási-Albert\n",
        "\n",
        "$$\n",
        "g(k) = k\n",
        "$$\n",
        ":::\n",
        "\n",
        "::: {.column width=\"50%\"}\n",
        "### Uniform Attachment\n",
        "$$\n",
        "g(k) = c\n",
        "$$\n",
        ":::\n",
        "\n",
        "::::\n",
        "\n",
        "# Analysis\n",
        "\n",
        "## Degree distributions\n",
        "\n",
        "## IGP model fit\n",
        "\n",
        "## GPA analyses\n",
        "\n",
        "## \n",
        "\n",
        "##\n"
      ],
      "id": "f1bf1355"
    }
  ],
  "metadata": {
    "kernelspec": {
      "display_name": "Python 3",
      "language": "python",
      "name": "python3"
    }
  },
  "nbformat": 4,
  "nbformat_minor": 5
}